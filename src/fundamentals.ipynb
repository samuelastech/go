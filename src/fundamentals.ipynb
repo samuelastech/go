{
 "cells": [
  {
   "cell_type": "markdown",
   "metadata": {},
   "source": [
    "# Hello World!\n",
    "---"
   ]
  },
  {
   "cell_type": "markdown",
   "metadata": {},
   "source": [
    "\"Hello World\" is the first thing you must do whenever you are learning a new programming language, so here it goes."
   ]
  },
  {
   "cell_type": "code",
   "execution_count": 1,
   "metadata": {},
   "outputs": [
    {
     "name": "stdout",
     "output_type": "stream",
     "text": [
      "Hello World\n"
     ]
    }
   ],
   "source": [
    "import \"fmt\"\n",
    "\n",
    "func main(){\n",
    "    fmt.Println(\"Hello World\")   \n",
    "}\n",
    "\n",
    "main()"
   ]
  },
  {
   "cell_type": "markdown",
   "metadata": {},
   "source": [
    "## How do we run the *Go* code?\n",
    "---"
   ]
  },
  {
   "cell_type": "markdown",
   "metadata": {},
   "source": [
    "You need to have go installed in your machine, you can check it out by running:\n",
    "\n",
    "```shell\n",
    "go version\n",
    "```"
   ]
  },
  {
   "cell_type": "markdown",
   "metadata": {},
   "source": [
    "If the version was prompted, you have the Go CLI to work on."
   ]
  },
  {
   "cell_type": "markdown",
   "metadata": {},
   "source": [
    "`go run [FILENAME]` compiles and executes a file.\n",
    "\n",
    "`go build` compiles a bunch of go source code files.\n",
    "\n",
    "`go fmt` formats all the code in each file in the current direcotry.\n",
    "\n",
    "`go install` compiles and installs a package.\n",
    "\n",
    "`go get` downloads the raw source code of someon else's package.\n",
    "\n",
    "`go test` runs any test associated with the current project."
   ]
  },
  {
   "cell_type": "markdown",
   "metadata": {},
   "source": [
    "### Run vs. Build\n",
    "---"
   ]
  },
  {
   "cell_type": "markdown",
   "metadata": {},
   "source": [
    "The `go run` command compiles and immediately executes the code. The `go build` on the other hand just compiles the code.\n",
    "\n",
    "If you have a `main.go` file and run a `go build main.go` you'll see a `main` file appears on Linux or MAC (`main.exe` on Windows). To execute it run `./main`."
   ]
  },
  {
   "cell_type": "markdown",
   "metadata": {},
   "source": [
    "## What does `package main` means?\n",
    "---"
   ]
  },
  {
   "cell_type": "markdown",
   "metadata": {},
   "source": [
    "In our `../code/main.go`, the first line is `package main`. "
   ]
  },
  {
   "cell_type": "markdown",
   "metadata": {},
   "source": [
    "Package is synonymous of project or workspace. A package is a collection of common source code files. When we work in application, we traditionally create a single package bacause that's what our app is."
   ]
  },
  {
   "cell_type": "code",
   "execution_count": 2,
   "metadata": {
    "scrolled": true
   },
   "outputs": [
    {
     "ename": "ERROR",
     "evalue": "runtime error: index out of range",
     "output_type": "error",
     "traceback": [
      "runtime error: index out of range"
     ]
    }
   ],
   "source": [
    "// Package wrapper\n",
    "\n",
    "// main.go\n",
    "package main\n",
    "\n",
    "import \"fmt\"\n",
    "\n",
    "func main() {\n",
    "    fmt.Println(\"Hi there\")\n",
    "}\n",
    "\n",
    "// support.go\n",
    "package main\n",
    "\n",
    "func support() {\n",
    "    fmt.Println(\"I need help\")\n",
    "}\n",
    "\n",
    "// helper.go\n",
    "package main\n",
    "\n",
    "func helper() {\n",
    "    fmt.Println(\"How can I help you?\")\n",
    "}"
   ]
  },
  {
   "cell_type": "markdown",
   "metadata": {},
   "source": [
    "So, a package can multiple files. All files need to declare their package."
   ]
  },
  {
   "cell_type": "markdown",
   "metadata": {},
   "source": [
    "### Types of packages\n",
    "---"
   ]
  },
  {
   "cell_type": "markdown",
   "metadata": {},
   "source": [
    "There are the **executable** and **reusable**."
   ]
  },
  {
   "cell_type": "markdown",
   "metadata": {},
   "source": [
    "The executable package type generates a file that we can run."
   ]
  },
  {
   "cell_type": "markdown",
   "metadata": {},
   "source": [
    "The reusable package generates code used as \"helpers\" that belive you or not you can reuse it. Think of these as being like code dependencies and libraries. You don't execute them, instead you use it to help your development."
   ]
  },
  {
   "cell_type": "markdown",
   "metadata": {},
   "source": [
    "The `package main` is strictly executable and it looks for a `main` method that MUST exist. In a nutshell, the word *main* is special."
   ]
  },
  {
   "cell_type": "markdown",
   "metadata": {},
   "source": [
    "`package calculator` or even `package uploader` are examples of reusable packages (dependencies, libraries)."
   ]
  },
  {
   "cell_type": "markdown",
   "metadata": {},
   "source": [
    "If you try to compile a package other than `main` you will not get a runnable program."
   ]
  },
  {
   "cell_type": "markdown",
   "metadata": {},
   "source": [
    "## What does `import \"fmt\"` means?\n",
    "---"
   ]
  },
  {
   "cell_type": "markdown",
   "metadata": {},
   "source": [
    "Import statements mean the same thing to any language: give access to another code written outside your file."
   ]
  },
  {
   "cell_type": "markdown",
   "metadata": {},
   "source": [
    "The \"fmt\" string is acronymous to \"format\" and is a built-in library (package) that comes alongside go. Its purpose is to print out stuff."
   ]
  },
  {
   "cell_type": "markdown",
   "metadata": {},
   "source": [
    "Other examples of built-in packages: \"io\", \"crypto\", \"encoding\", \"math\", and \"debug\". See all go's standard libraries [here](https://pkg.go.dev/std)."
   ]
  },
  {
   "cell_type": "markdown",
   "metadata": {},
   "source": [
    "So, to import any package you want `import \"[PACKAGE NAME]\"`"
   ]
  },
  {
   "cell_type": "markdown",
   "metadata": {},
   "source": [
    "# References\n",
    "---"
   ]
  },
  {
   "cell_type": "markdown",
   "metadata": {},
   "source": [
    "- https://www.udemy.com/course/go-the-complete-developers-guide/"
   ]
  }
 ],
 "metadata": {
  "kernelspec": {
   "display_name": "Go",
   "language": "go",
   "name": "gophernotes"
  },
  "language_info": {
   "codemirror_mode": "",
   "file_extension": ".go",
   "mimetype": "",
   "name": "go",
   "nbconvert_exporter": "",
   "pygments_lexer": "",
   "version": "go1.11.4"
  }
 },
 "nbformat": 4,
 "nbformat_minor": 2
}
