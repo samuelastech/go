{
 "cells": [
  {
   "cell_type": "markdown",
   "metadata": {},
   "source": [
    "# Hello World!\n",
    "---"
   ]
  },
  {
   "cell_type": "markdown",
   "metadata": {},
   "source": [
    "\"Hello World\" is the first thing you must do whenever you are learning a new programming language, so here it goes."
   ]
  },
  {
   "cell_type": "code",
   "execution_count": 1,
   "metadata": {},
   "outputs": [
    {
     "name": "stdout",
     "output_type": "stream",
     "text": [
      "Hello World\n"
     ]
    }
   ],
   "source": [
    "import \"fmt\"\n",
    "\n",
    "func main(){\n",
    "    fmt.Println(\"Hello World\")   \n",
    "}\n",
    "\n",
    "main()"
   ]
  },
  {
   "cell_type": "markdown",
   "metadata": {},
   "source": [
    "## How do we run the *Go* code?\n",
    "---"
   ]
  },
  {
   "cell_type": "markdown",
   "metadata": {},
   "source": [
    "You need to have go installed in your machine, you can check it out by running:\n",
    "\n",
    "```shell\n",
    "go version\n",
    "```"
   ]
  },
  {
   "cell_type": "markdown",
   "metadata": {},
   "source": [
    "If the version was prompted, you have the Go CLI to work on."
   ]
  },
  {
   "cell_type": "markdown",
   "metadata": {},
   "source": [
    "`go run [FILENAME]` compiles and executes a file.\n",
    "\n",
    "`go build` compiles a bunch of go source code files.\n",
    "\n",
    "`go fmt` formats all the code in each file in the current direcotry.\n",
    "\n",
    "`go install` compiles and installs a package.\n",
    "\n",
    "`go get` downloads the raw source code of someon else's package.\n",
    "\n",
    "`go test` runs any test associated with the current project."
   ]
  },
  {
   "cell_type": "markdown",
   "metadata": {},
   "source": [
    "### Run vs. Build\n",
    "---"
   ]
  },
  {
   "cell_type": "markdown",
   "metadata": {},
   "source": [
    "The `go run` command compiles and immediately executes the code. The `go build` on the other hand just compiles the code.\n",
    "\n",
    "If you have a `main.go` file and run a `go build main.go` you'll see a `main` file appears on Linux or MAC (`main.exe` on Windows). To execute it run `./main`."
   ]
  }
 ],
 "metadata": {
  "kernelspec": {
   "display_name": "Go",
   "language": "go",
   "name": "gophernotes"
  },
  "language_info": {
   "codemirror_mode": "",
   "file_extension": ".go",
   "mimetype": "",
   "name": "go",
   "nbconvert_exporter": "",
   "pygments_lexer": "",
   "version": "go1.11.4"
  }
 },
 "nbformat": 4,
 "nbformat_minor": 2
}
