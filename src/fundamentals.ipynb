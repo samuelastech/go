{
 "cells": [
  {
   "cell_type": "markdown",
   "metadata": {},
   "source": [
    "# Hello World!\n",
    "---"
   ]
  },
  {
   "cell_type": "markdown",
   "metadata": {},
   "source": [
    "\"Hello World\" is the first thing you must do whenever you are learning a new programming language, so here it goes."
   ]
  },
  {
   "cell_type": "code",
   "execution_count": 1,
   "metadata": {},
   "outputs": [],
   "source": [
    "import \"fmt\"\n",
    "\n",
    "func main(){\n",
    "    fmt.Println(\"Hello World\")   \n",
    "}\n",
    "\n",
    "main()"
   ]
  },
  {
   "cell_type": "markdown",
   "metadata": {},
   "source": [
    "## How do we run the *Go* code?\n",
    "---"
   ]
  },
  {
   "cell_type": "markdown",
   "metadata": {},
   "source": [
    "You need to have go installed in your machine, you can check it out by running:\n",
    "\n",
    "```shell\n",
    "go version\n",
    "```"
   ]
  },
  {
   "cell_type": "markdown",
   "metadata": {},
   "source": [
    "If the version was prompted, you have the Go CLI to work on."
   ]
  },
  {
   "cell_type": "markdown",
   "metadata": {},
   "source": [
    "`go run [FILENAME]` compiles and executes a file.\n",
    "\n",
    "`go build` compiles a bunch of go source code files.\n",
    "\n",
    "`go fmt` formats all the code in each file in the current direcotry.\n",
    "\n",
    "`go install` compiles and installs a package.\n",
    "\n",
    "`go get` downloads the raw source code of someon else's package.\n",
    "\n",
    "`go test` runs any test associated with the current project."
   ]
  },
  {
   "cell_type": "markdown",
   "metadata": {},
   "source": [
    "### Run vs. Build\n",
    "---"
   ]
  },
  {
   "cell_type": "markdown",
   "metadata": {},
   "source": [
    "The `go run` command compiles and immediately executes the code. The `go build` on the other hand just compiles the code.\n",
    "\n",
    "If you have a `main.go` file and run a `go build main.go` you'll see a `main` file appears on Linux or MAC (`main.exe` on Windows). To execute it run `./main`."
   ]
  },
  {
   "cell_type": "markdown",
   "metadata": {},
   "source": [
    "## What does `package main` means?\n",
    "---"
   ]
  },
  {
   "cell_type": "markdown",
   "metadata": {},
   "source": [
    "In our `../code/main.go`, the first line is `package main`. "
   ]
  },
  {
   "cell_type": "markdown",
   "metadata": {},
   "source": [
    "Package is synonymous of project or workspace. A package is a collection of common source code files. When we work in application, we traditionally create a single package bacause that's what our app is."
   ]
  },
  {
   "cell_type": "code",
   "execution_count": 2,
   "metadata": {
    "scrolled": true
   },
   "outputs": [],
   "source": [
    "// Package wrapper\n",
    "\n",
    "// main.go\n",
    "package main\n",
    "\n",
    "import \"fmt\"\n",
    "\n",
    "func main() {\n",
    "    fmt.Println(\"Hi there\")\n",
    "}\n",
    "\n",
    "// support.go\n",
    "package main\n",
    "\n",
    "func support() {\n",
    "    fmt.Println(\"I need help\")\n",
    "}\n",
    "\n",
    "// helper.go\n",
    "package main\n",
    "\n",
    "func helper() {\n",
    "    fmt.Println(\"How can I help you?\")\n",
    "}"
   ]
  },
  {
   "cell_type": "markdown",
   "metadata": {},
   "source": [
    "So, a package can multiple files. All files need to declare their package."
   ]
  },
  {
   "cell_type": "markdown",
   "metadata": {},
   "source": [
    "### Types of packages\n",
    "---"
   ]
  },
  {
   "cell_type": "markdown",
   "metadata": {},
   "source": [
    "There are the **executable** and **reusable**."
   ]
  },
  {
   "cell_type": "markdown",
   "metadata": {},
   "source": [
    "The executable package type generates a file that we can run."
   ]
  },
  {
   "cell_type": "markdown",
   "metadata": {},
   "source": [
    "The reusable package generates code used as \"helpers\" that belive you or not you can reuse it. Think of these as being like code dependencies and libraries. You don't execute them, instead you use it to help your development."
   ]
  },
  {
   "cell_type": "markdown",
   "metadata": {},
   "source": [
    "The `package main` is strictly executable and it looks for a `main` method that should exist, otherwise it will serve as a library. In a nutshell, the word *main* is special."
   ]
  },
  {
   "cell_type": "markdown",
   "metadata": {},
   "source": [
    "`package calculator` or even `package uploader` are examples of reusable packages (dependencies, libraries)."
   ]
  },
  {
   "cell_type": "markdown",
   "metadata": {},
   "source": [
    "If you try to compile a package other than `main` you will not get a runnable program."
   ]
  },
  {
   "cell_type": "markdown",
   "metadata": {},
   "source": [
    "## What does `import \"fmt\"` means?\n",
    "---"
   ]
  },
  {
   "cell_type": "markdown",
   "metadata": {},
   "source": [
    "Import statements mean the same thing to any language: give access to another code written outside your file."
   ]
  },
  {
   "cell_type": "markdown",
   "metadata": {},
   "source": [
    "The \"fmt\" string is acronymous to \"format\" and is a built-in library (package) that comes alongside go. Its purpose is to print out stuff."
   ]
  },
  {
   "cell_type": "markdown",
   "metadata": {},
   "source": [
    "Other examples of built-in packages: \"io\", \"crypto\", \"encoding\", \"math\", and \"debug\". See all go's standard libraries [here](https://pkg.go.dev/std)."
   ]
  },
  {
   "cell_type": "markdown",
   "metadata": {},
   "source": [
    "So, to import any package you want `import \"[PACKAGE NAME]\"`"
   ]
  },
  {
   "cell_type": "markdown",
   "metadata": {},
   "source": [
    "## The main function\n",
    "---"
   ]
  },
  {
   "cell_type": "markdown",
   "metadata": {},
   "source": [
    "As we said, the `main` package will look for a `main` function. That's our entry point. You can create other function but they will only be executed when it is called by the `main` function or by other functions that are called by the `main` function."
   ]
  },
  {
   "cell_type": "code",
   "execution_count": 3,
   "metadata": {},
   "outputs": [],
   "source": [
    "import \"fmt\"\n",
    "\n",
    "func main() {\n",
    "    fmt.Println(\"Hello\")\n",
    "    anotherFunction()\n",
    "}\n",
    "\n",
    "func anotherFunction() {\n",
    "    fmt.Println(\"That's another function\")\n",
    "}"
   ]
  },
  {
   "cell_type": "markdown",
   "metadata": {},
   "source": [
    "*OBS: Jupyter Notebook Go Kernel obvisouly going to work differently*. "
   ]
  },
  {
   "cell_type": "markdown",
   "metadata": {},
   "source": [
    "Without the `main` function, your program will not have an entry point and the compiler will not generate an executable binary file."
   ]
  },
  {
   "cell_type": "markdown",
   "metadata": {},
   "source": [
    "### Typed language\n",
    "---"
   ]
  },
  {
   "cell_type": "markdown",
   "metadata": {},
   "source": [
    "Also, you cannot execute any code outside of a function. Any Go code that you write must be inside a function."
   ]
  },
  {
   "cell_type": "markdown",
   "metadata": {},
   "source": [
    "This is because Go is a strictly typed language that enforces a clear separation between data and code. If you try to write code outside of a function, you will get a compile-time error."
   ]
  },
  {
   "cell_type": "markdown",
   "metadata": {},
   "source": [
    "The following code will not compile in a regular program:"
   ]
  },
  {
   "cell_type": "code",
   "execution_count": 4,
   "metadata": {},
   "outputs": [],
   "source": [
    "import \"fmt\"\n",
    "\n",
    "fmt.Println(\"Hello\")\n",
    "\n",
    "func main() {\n",
    "    fmt.Println(\"World\")\n",
    "}"
   ]
  },
  {
   "cell_type": "markdown",
   "metadata": {},
   "source": [
    "# Variable declarations\n",
    "---"
   ]
  },
  {
   "cell_type": "code",
   "execution_count": 5,
   "metadata": {},
   "outputs": [],
   "source": [
    "var name string = \"Neymar\"\n",
    "var age int = 31\n",
    "const nationality string = \"Brazil\""
   ]
  },
  {
   "cell_type": "markdown",
   "metadata": {},
   "source": [
    "## Basic Go Types\n",
    "---"
   ]
  },
  {
   "cell_type": "code",
   "execution_count": 8,
   "metadata": {},
   "outputs": [],
   "source": [
    "var binaryTrue bool = true\n",
    "var binaryFalse bool = false\n",
    "\n",
    "var someText string = \"Example\"\n",
    "\n",
    "var numberInt int = 10\n",
    "var numberMoney float64 = 3000.59"
   ]
  },
  {
   "cell_type": "markdown",
   "metadata": {},
   "source": [
    "## Short variable declaration\n",
    "---"
   ]
  },
  {
   "cell_type": "markdown",
   "metadata": {},
   "source": [
    "Go uses the `:=` operator for shorthand variable declaration and initialization. This operator allows you to declare a new variable and assign a value to it at the same time without having to explicitly specify the variable's type."
   ]
  },
  {
   "cell_type": "markdown",
   "metadata": {},
   "source": [
    "For example, instead of writing:"
   ]
  },
  {
   "cell_type": "code",
   "execution_count": 9,
   "metadata": {},
   "outputs": [],
   "source": [
    "var eggs string = \"sgge\""
   ]
  },
  {
   "cell_type": "markdown",
   "metadata": {},
   "source": [
    "You can use the `:=` operator:"
   ]
  },
  {
   "cell_type": "code",
   "execution_count": 10,
   "metadata": {},
   "outputs": [],
   "source": [
    "pullUp := \"rope\""
   ]
  },
  {
   "cell_type": "markdown",
   "metadata": {},
   "source": [
    "However, the `:=` operator can only be used inside functions or code blocks. It cannot be used at the package level to declare variables."
   ]
  },
  {
   "cell_type": "markdown",
   "metadata": {},
   "source": [
    "# Functions\n",
    "---"
   ]
  },
  {
   "cell_type": "markdown",
   "metadata": {},
   "source": [
    "The syntax is simple and familiar with many programming languages:"
   ]
  },
  {
   "cell_type": "code",
   "execution_count": 8,
   "metadata": {},
   "outputs": [
    {
     "name": "stdout",
     "output_type": "stream",
     "text": [
      "something was created\n"
     ]
    }
   ],
   "source": [
    "import \"fmt\"\n",
    "\n",
    "func createSomething() {\n",
    "    fmt.Println(\"something was created\")\n",
    "}\n",
    "\n",
    "createSomething()"
   ]
  },
  {
   "cell_type": "markdown",
   "metadata": {},
   "source": [
    "What if we want ro **return** some value? We have to specify what the function returns:"
   ]
  },
  {
   "cell_type": "code",
   "execution_count": 10,
   "metadata": {},
   "outputs": [
    {
     "data": {
      "text/plain": [
       "Hank"
      ]
     },
     "execution_count": 10,
     "metadata": {},
     "output_type": "execute_result"
    }
   ],
   "source": [
    "func personName() string {\n",
    "    return \"Hank\"\n",
    "}\n",
    "\n",
    "personName()"
   ]
  },
  {
   "cell_type": "markdown",
   "metadata": {},
   "source": [
    "# Array and Slice\n",
    "---"
   ]
  },
  {
   "cell_type": "markdown",
   "metadata": {},
   "source": [
    "Different of many languages, Go has two data structures to handle a list of data: **Array** and **Slice**."
   ]
  },
  {
   "cell_type": "markdown",
   "metadata": {},
   "source": [
    "What is the difference between them?\n",
    "\n",
    "- An array is a fixed length list of things;\n",
    "- A slice is an array that can grow or shrink;\n",
    "- Every element in a slice must be of same type."
   ]
  },
  {
   "cell_type": "markdown",
   "metadata": {},
   "source": [
    "How do we create a slice?"
   ]
  },
  {
   "cell_type": "code",
   "execution_count": 12,
   "metadata": {},
   "outputs": [
    {
     "data": {
      "text/plain": [
       "[Card 1 Card 2]"
      ]
     },
     "execution_count": 12,
     "metadata": {},
     "output_type": "execute_result"
    }
   ],
   "source": [
    "cards := []string{\"Card 1\", \"Card 2\"} // Creating a slice\n",
    "cards"
   ]
  },
  {
   "cell_type": "markdown",
   "metadata": {},
   "source": [
    "How do we assing values? The way below going to throw an error."
   ]
  },
  {
   "cell_type": "code",
   "execution_count": 13,
   "metadata": {},
   "outputs": [
    {
     "ename": "ERROR",
     "evalue": "repl.go:1:9: expected expression (and 1 more errors)",
     "output_type": "error",
     "traceback": [
      "repl.go:1:9: expected expression (and 1 more errors)"
     ]
    }
   ],
   "source": [
    "deck := []string\n",
    "deck = {\"Zorro\", \"Ben 10\"}"
   ]
  },
  {
   "cell_type": "markdown",
   "metadata": {},
   "source": [
    "We need to use the `append` function:"
   ]
  },
  {
   "cell_type": "code",
   "execution_count": 17,
   "metadata": {},
   "outputs": [
    {
     "data": {
      "text/plain": [
       "[Zorro Ben 10 Macaco Louco]"
      ]
     },
     "execution_count": 17,
     "metadata": {},
     "output_type": "execute_result"
    }
   ],
   "source": [
    "deck := []string{\"Zorro\", \"Ben 10\"}\n",
    "deck = append(deck, \"Macaco Louco\")\n",
    "deck"
   ]
  },
  {
   "cell_type": "markdown",
   "metadata": {},
   "source": []
  },
  {
   "cell_type": "markdown",
   "metadata": {},
   "source": [
    "# References\n",
    "---"
   ]
  },
  {
   "cell_type": "markdown",
   "metadata": {},
   "source": [
    "- https://www.udemy.com/course/go-the-complete-developers-guide/\n",
    "- https://chat.openai.com/"
   ]
  }
 ],
 "metadata": {
  "kernelspec": {
   "display_name": "Go",
   "language": "go",
   "name": "gophernotes"
  },
  "language_info": {
   "codemirror_mode": "",
   "file_extension": ".go",
   "mimetype": "",
   "name": "go",
   "nbconvert_exporter": "",
   "pygments_lexer": "",
   "version": "go1.11.4"
  }
 },
 "nbformat": 4,
 "nbformat_minor": 2
}
