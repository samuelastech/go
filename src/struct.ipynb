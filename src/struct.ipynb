{
 "cells": [
  {
   "cell_type": "markdown",
   "metadata": {},
   "source": [
    "# Struct\n",
    "---"
   ]
  },
  {
   "cell_type": "markdown",
   "metadata": {},
   "source": [
    "Structs are widely used in Go. It's a collection of properties that are related together. It's like an object from JavaScript or a dictionary from Python."
   ]
  },
  {
   "cell_type": "markdown",
   "metadata": {},
   "source": [
    "## Defining\n",
    "---"
   ]
  },
  {
   "cell_type": "markdown",
   "metadata": {},
   "source": [
    "Go is a typed language, so to use structs first you need to **define** it: which are the properties and their data type."
   ]
  },
  {
   "cell_type": "code",
   "execution_count": 1,
   "metadata": {},
   "outputs": [],
   "source": [
    "type person struct {\n",
    "    firstName string\n",
    "    lastName string\n",
    "    age int\n",
    "}"
   ]
  },
  {
   "cell_type": "markdown",
   "metadata": {},
   "source": [
    "## Instantiating\n",
    "---"
   ]
  },
  {
   "cell_type": "markdown",
   "metadata": {},
   "source": [
    "So we created a person structure. Now, we can actually **create values** from it."
   ]
  },
  {
   "cell_type": "code",
   "execution_count": 2,
   "metadata": {},
   "outputs": [
    {
     "data": {
      "text/plain": [
       "{Alex Anderson 22}"
      ]
     },
     "execution_count": 2,
     "metadata": {},
     "output_type": "execute_result"
    }
   ],
   "source": [
    "alex := person {\"Alex\", \"Anderson\", 22}\n",
    "alex"
   ]
  },
  {
   "cell_type": "markdown",
   "metadata": {},
   "source": [
    "That's a way of creating a struct. The order of the fields matters, so you have to assign the values in the order you set previously."
   ]
  },
  {
   "cell_type": "markdown",
   "metadata": {},
   "source": [
    "There's another way very similar to other languages:"
   ]
  },
  {
   "cell_type": "code",
   "execution_count": 3,
   "metadata": {},
   "outputs": [
    {
     "data": {
      "text/plain": [
       "{Elen Page 34}"
      ]
     },
     "execution_count": 3,
     "metadata": {},
     "output_type": "execute_result"
    }
   ],
   "source": [
    "elen := person {\n",
    "    firstName: \"Elen\",\n",
    "    lastName: \"Page\",\n",
    "    age: 34,\n",
    "}\n",
    "\n",
    "elen"
   ]
  },
  {
   "cell_type": "markdown",
   "metadata": {},
   "source": [
    "## Updating a value\n",
    "---"
   ]
  },
  {
   "cell_type": "markdown",
   "metadata": {},
   "source": [
    "Is it possible to **update** a value of a struct? Yes, it is possible and it seems like any other language."
   ]
  },
  {
   "cell_type": "code",
   "execution_count": 4,
   "metadata": {},
   "outputs": [
    {
     "data": {
      "text/plain": [
       "{Elen Page da Silva 30}"
      ]
     },
     "execution_count": 4,
     "metadata": {},
     "output_type": "execute_result"
    }
   ],
   "source": [
    "elen.lastName = \"Page da Silva\"\n",
    "elen.age = 30\n",
    "elen"
   ]
  },
  {
   "cell_type": "markdown",
   "metadata": {},
   "source": [
    "## Embedding: nested structs\n",
    "---"
   ]
  },
  {
   "cell_type": "markdown",
   "metadata": {},
   "source": [
    "We can put one struct inside another (to nest)."
   ]
  },
  {
   "cell_type": "code",
   "execution_count": 5,
   "metadata": {},
   "outputs": [
    {
     "data": {
      "text/plain": [
       "{Matthew Doe {matthew.doe@gmail.com (11) 9 8855-4545}}"
      ]
     },
     "execution_count": 5,
     "metadata": {},
     "output_type": "execute_result"
    }
   ],
   "source": [
    "type contactInfo struct {\n",
    "    email string\n",
    "    phone string\n",
    "}\n",
    "\n",
    "type student struct {\n",
    "    firstName string\n",
    "    lastName string\n",
    "    contact contactInfo\n",
    "}\n",
    "\n",
    "matthew := student {\n",
    "    firstName: \"Matthew\",\n",
    "    lastName: \"Doe\",\n",
    "    contact: contactInfo {\n",
    "        email: \"matthew.doe@gmail.com\",\n",
    "        phone: \"(11) 9 8855-4545\",\n",
    "    },\n",
    "}\n",
    "\n",
    "matthew"
   ]
  },
  {
   "cell_type": "markdown",
   "metadata": {},
   "source": [
    "## Receiver functions in Structs\n",
    "---"
   ]
  },
  {
   "cell_type": "markdown",
   "metadata": {},
   "source": [
    "Every definition that cames alongside `type` keyword can have built-in function, or receiver functions."
   ]
  },
  {
   "cell_type": "code",
   "execution_count": 6,
   "metadata": {},
   "outputs": [
    {
     "ename": "ERROR",
     "evalue": "runtime error: invalid memory address or nil pointer dereference",
     "output_type": "error",
     "traceback": [
      "runtime error: invalid memory address or nil pointer dereference"
     ]
    }
   ],
   "source": [
    "import \"fmt\"\n",
    "\n",
    "func (s student) print() {\n",
    "    fmt.Println(matthew)\n",
    "}\n",
    "\n",
    "matthew.print()"
   ]
  },
  {
   "cell_type": "markdown",
   "metadata": {},
   "source": [
    "# References\n",
    "---"
   ]
  },
  {
   "cell_type": "markdown",
   "metadata": {},
   "source": [
    "- https://www.udemy.com/course/go-the-complete-developers-guide\n",
    "- https://chat.openai.com/"
   ]
  }
 ],
 "metadata": {
  "kernelspec": {
   "display_name": "Go",
   "language": "go",
   "name": "gophernotes"
  },
  "language_info": {
   "codemirror_mode": "",
   "file_extension": ".go",
   "mimetype": "",
   "name": "go",
   "nbconvert_exporter": "",
   "pygments_lexer": "",
   "version": "go1.11.4"
  }
 },
 "nbformat": 4,
 "nbformat_minor": 2
}
