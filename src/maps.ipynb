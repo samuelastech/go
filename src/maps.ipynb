{
 "cells": [
  {
   "cell_type": "markdown",
   "metadata": {},
   "source": [
    "# Maps\n",
    "---"
   ]
  },
  {
   "cell_type": "markdown",
   "metadata": {},
   "source": [
    "Map is a pair of key and value, quite similar to structs."
   ]
  },
  {
   "cell_type": "markdown",
   "metadata": {},
   "source": [
    "JavaScript objects; Ruby hashes; Python dictionary, and Go maps. These all are equivalent."
   ]
  },
  {
   "cell_type": "markdown",
   "metadata": {},
   "source": [
    "## Declaring\n",
    "---"
   ]
  },
  {
   "cell_type": "markdown",
   "metadata": {},
   "source": [
    "First of all, we must know that all keys in a map must be of the same type. So, if we create a key of type string, all the other keys will need to be a string. The values, the same: if we set them as strings they all must follow it."
   ]
  },
  {
   "cell_type": "code",
   "execution_count": 1,
   "metadata": {},
   "outputs": [
    {
     "data": {
      "text/plain": [
       "map[red:#ff0000 geen:#4bf745]"
      ]
     },
     "execution_count": 1,
     "metadata": {},
     "output_type": "execute_result"
    }
   ],
   "source": [
    "colors := map[string]string {\n",
    "    \"red\": \"#ff0000\",\n",
    "    \"geen\": \"#4bf745\",\n",
    "}\n",
    "\n",
    "colors"
   ]
  },
  {
   "cell_type": "markdown",
   "metadata": {},
   "source": [
    "To access a specific key:"
   ]
  },
  {
   "cell_type": "code",
   "execution_count": 2,
   "metadata": {},
   "outputs": [
    {
     "data": {
      "text/plain": [
       "#ff0000true"
      ]
     },
     "execution_count": 2,
     "metadata": {},
     "output_type": "execute_result"
    }
   ],
   "source": [
    "colors[\"red\"]"
   ]
  },
  {
   "cell_type": "markdown",
   "metadata": {},
   "source": [
    "There is one more way of declaring a map:"
   ]
  },
  {
   "cell_type": "code",
   "execution_count": 3,
   "metadata": {},
   "outputs": [
    {
     "data": {
      "text/plain": [
       "map[serif:Times New Roman monospace:Courier New sans:Arial]"
      ]
     },
     "execution_count": 3,
     "metadata": {},
     "output_type": "execute_result"
    }
   ],
   "source": [
    "var fonts map[string]string // Declaring\n",
    "fonts = make(map[string]string) // Initializing\n",
    "\n",
    "fonts[\"sans\"] = \"Arial\"\n",
    "fonts[\"serif\"] = \"Times New Roman\"\n",
    "fonts[\"monospace\"] = \"Courier New\"\n",
    "fonts"
   ]
  },
  {
   "cell_type": "markdown",
   "metadata": {},
   "source": [
    "The `make` function is used to create and initialize certain types of built-in data structures, including maps. It takes the type of the data structure as its first argument, and additional arguments as needed depending on the type.\n",
    "\n",
    "For maps, the `make` function takes two arguments: the type of the map, and an optional capacity hint."
   ]
  },
  {
   "cell_type": "markdown",
   "metadata": {},
   "source": [
    "## Deleting a value\n",
    "---"
   ]
  },
  {
   "cell_type": "markdown",
   "metadata": {},
   "source": [
    "How to delete a key?"
   ]
  },
  {
   "cell_type": "code",
   "execution_count": 4,
   "metadata": {},
   "outputs": [
    {
     "data": {
      "text/plain": [
       "map[1:Messi 3:Neymar]"
      ]
     },
     "execution_count": 4,
     "metadata": {},
     "output_type": "execute_result"
    }
   ],
   "source": [
    "var ranking map[int]string\n",
    "ranking = make(map[int]string)\n",
    "\n",
    "ranking[1] = \"Messi\"\n",
    "ranking[2] = \"Suarez\"\n",
    "ranking[3] = \"Neymar\"\n",
    "\n",
    "delete(ranking, 2)\n",
    "ranking"
   ]
  },
  {
   "cell_type": "markdown",
   "metadata": {},
   "source": [
    "## Iterate over a map\n",
    "---"
   ]
  },
  {
   "cell_type": "markdown",
   "metadata": {},
   "source": [
    "It's very similar to iterate over slices."
   ]
  },
  {
   "cell_type": "code",
   "execution_count": 5,
   "metadata": {},
   "outputs": [
    {
     "name": "stdout",
     "output_type": "stream",
     "text": [
      "Right defender Nathan\n",
      "----------------------------------\n",
      "Left defender Lucas Pires\n",
      "----------------------------------\n",
      "Wheel Rodrigo Fernandez\n",
      "----------------------------------\n",
      "Midfilder Lucas Lima\n",
      "----------------------------------\n",
      "Goalkeeper João Paulo\n",
      "----------------------------------\n",
      "Defender Joaquim\n",
      "----------------------------------\n"
     ]
    }
   ],
   "source": [
    "import \"fmt\"\n",
    "\n",
    "santos := map[string]string {\n",
    "    \"Goalkeeper\": \"João Paulo\",\n",
    "    \"Defender\": \"Joaquim\",\n",
    "    \"Right defender\": \"Nathan\",\n",
    "    \"Left defender\": \"Lucas Pires\",\n",
    "    \"Wheel\": \"Rodrigo Fernandez\",\n",
    "    \"Midfilder\": \"Lucas Lima\",\n",
    "}\n",
    "\n",
    "for key, value := range santos {\n",
    "    fmt.Println(key, value)\n",
    "    fmt.Println(\"----------------------------------\")\n",
    "}"
   ]
  },
  {
   "cell_type": "markdown",
   "metadata": {},
   "source": [
    "## Map vs. Structs\n",
    "---"
   ]
  },
  {
   "cell_type": "markdown",
   "metadata": {},
   "source": [
    "As said, these are very similar. Here some points about one another:"
   ]
  },
  {
   "cell_type": "markdown",
   "metadata": {},
   "source": [
    "- In a map, all keys must be the same type as well as the values. In a struct, values can be of different type;\n",
    "- You can iterate over a map, but not over a struct;\n",
    "- A map represents a collection of related properties. On the other hand, a struct is used to represent a \"thing\" with a lot of different properties;\n",
    "- A map is a reference type while a struct is a value type."
   ]
  },
  {
   "cell_type": "markdown",
   "metadata": {},
   "source": [
    "# References\n",
    "---"
   ]
  },
  {
   "cell_type": "markdown",
   "metadata": {},
   "source": [
    "- https://www.udemy.com/course/go-the-complete-developers-guide\n",
    "- https://chat.openai.com/"
   ]
  }
 ],
 "metadata": {
  "kernelspec": {
   "display_name": "Go",
   "language": "go",
   "name": "gophernotes"
  },
  "language_info": {
   "codemirror_mode": "",
   "file_extension": ".go",
   "mimetype": "",
   "name": "go",
   "nbconvert_exporter": "",
   "pygments_lexer": "",
   "version": "go1.11.4"
  }
 },
 "nbformat": 4,
 "nbformat_minor": 2
}
