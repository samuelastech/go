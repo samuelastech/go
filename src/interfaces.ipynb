{
 "cells": [
  {
   "cell_type": "markdown",
   "metadata": {},
   "source": [
    "# Interfaces\n",
    "---"
   ]
  },
  {
   "cell_type": "markdown",
   "metadata": {},
   "source": [
    "In many languages, an interface is a set of method signatures."
   ]
  },
  {
   "cell_type": "markdown",
   "metadata": {},
   "source": [
    "Imagine we have a function and we want to create a receiver for a data type. What if we want to implement the same function in another data type? Would we need to copy and paste that function? Obviously that's not the idea. Whe programming, we try to reduce code, not to rewrite."
   ]
  },
  {
   "cell_type": "markdown",
   "metadata": {},
   "source": [
    "That is one of the problems **interfaces** solve for us. Writing flexible, reusable, and modular code is vital for developing versatile programs. Go doesn't have the features of Object-Oriented (OO) languages, but it does have features of *composition* — a way to combine objects or data types into more complex ones. This is the approach that Go uses to promote code reuse, modularity, and flexibility, and interfaces are included."
   ]
  },
  {
   "cell_type": "markdown",
   "metadata": {},
   "source": [
    "## Definition\n",
    "---"
   ]
  },
  {
   "cell_type": "markdown",
   "metadata": {},
   "source": [
    "Lat's take an example:"
   ]
  },
  {
   "cell_type": "code",
   "execution_count": 1,
   "metadata": {},
   "outputs": [],
   "source": [
    "type Stringer interface {\n",
    "    String() string\n",
    "}"
   ]
  },
  {
   "cell_type": "markdown",
   "metadata": {},
   "source": [
    "We define an interface exactly as the struct. Inside that, instead of data types, we put method signatures. Now, a type can provide a definition for that method we declared `String()`. When they do that it's said they implemented the interface."
   ]
  },
  {
   "cell_type": "code",
   "execution_count": 2,
   "metadata": {},
   "outputs": [],
   "source": [
    "import \"fmt\"\n",
    "\n",
    "type Article struct {\n",
    "    Title string\n",
    "    Author string\n",
    "}\n",
    "\n",
    "func (a Article) String() string {\n",
    "    return fmt.Sprintf(\"The %q article was written by %s.\", a.Title, a.Author)\n",
    "}"
   ]
  },
  {
   "cell_type": "markdown",
   "metadata": {},
   "source": [
    "Here we declared a struct `Article` and implemented the `String()` method in it from `Stringer` interface."
   ]
  },
  {
   "cell_type": "code",
   "execution_count": 3,
   "metadata": {},
   "outputs": [
    {
     "data": {
      "text/plain": [
       "The \"On Computable Numbers\" article was written by Alan Turing."
      ]
     },
     "execution_count": 3,
     "metadata": {},
     "output_type": "execute_result"
    }
   ],
   "source": [
    "a := Article {\n",
    "    Title: \"On Computable Numbers\",\n",
    "    Author: \"Alan Turing\",\n",
    "}\n",
    "\n",
    "a.String()"
   ]
  },
  {
   "cell_type": "markdown",
   "metadata": {},
   "source": [
    "That's a simple example."
   ]
  },
  {
   "cell_type": "markdown",
   "metadata": {},
   "source": [
    "<mark>When we have two types and both have a similar aspect, we can create an interface with the akin behavior.</mark>"
   ]
  },
  {
   "cell_type": "markdown",
   "metadata": {},
   "source": [
    "## Aspects\n",
    "---"
   ]
  },
  {
   "cell_type": "markdown",
   "metadata": {},
   "source": [
    "- Interfaces are different of *concrete types* like map, int, string, structs;\n",
    "- Interfaces are implicit, which means they are not linked to the type that implements them, nothing like a `implements` keyword;\n",
    "- Interfaces are a contract that helps us to manage types;\n",
    "- A field inside o struct can be an interface. When it happens it is saying \"you can put any type here as long as it satisfies the interface\". Any value assigned to that field must implement the methods defined in the interface;\n",
    "- We can nest interfaces."
   ]
  },
  {
   "cell_type": "markdown",
   "metadata": {},
   "source": [
    "## The `Reader` interface\n",
    "---"
   ]
  },
  {
   "cell_type": "markdown",
   "metadata": {},
   "source": [
    "It's all over the Go documentation."
   ]
  },
  {
   "cell_type": "markdown",
   "metadata": {},
   "source": [
    "Imagine that we have many different data types as input, will we have to create a specific function for each one? The `Reader` interface takes care of that for us. It creates a default output given any input, it returns a `[]byte`."
   ]
  },
  {
   "cell_type": "markdown",
   "metadata": {},
   "source": [
    "In a nutshell, it doesn't matter what input your program have, as long as you implement the `Reader` interface you will have the same output type to work with."
   ]
  },
  {
   "cell_type": "markdown",
   "metadata": {},
   "source": [
    "References\n",
    "---"
   ]
  },
  {
   "cell_type": "markdown",
   "metadata": {},
   "source": [
    "- https://www.udemy.com/course/go-the-complete-developers-guide\n",
    "- https://chat.openai.com/\n",
    "- https://golangbot.com/interfaces-part-1/\n",
    "- https://www.digitalocean.com/community/tutorials/how-to-use-interfaces-in-go"
   ]
  }
 ],
 "metadata": {
  "kernelspec": {
   "display_name": "Go",
   "language": "go",
   "name": "gophernotes"
  },
  "language_info": {
   "codemirror_mode": "",
   "file_extension": ".go",
   "mimetype": "",
   "name": "go",
   "nbconvert_exporter": "",
   "pygments_lexer": "",
   "version": "go1.11.4"
  }
 },
 "nbformat": 4,
 "nbformat_minor": 2
}
